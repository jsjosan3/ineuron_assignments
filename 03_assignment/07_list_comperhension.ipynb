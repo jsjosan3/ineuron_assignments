{
 "cells": [
  {
   "cell_type": "raw",
   "id": "68017189",
   "metadata": {},
   "source": [
    "Implement List comprehensions to produce the following lists.\n",
    "Write List comprehensions to produce the following Lists\n",
    "\n",
    "['A', 'C', 'A', 'D', 'G', 'I', ’L’, ‘ D’]\n",
    "\n",
    "['x', 'xx', 'xxx', 'xxxx', 'y', 'yy', 'yyy', 'yyyy', 'z', 'zz', 'zzz', 'zzzz']\n",
    "\n",
    "['x', 'y', 'z', 'xx', 'yy', 'zz', 'xxx', 'yyy', 'zzz', 'xxxx', 'yyyy', 'zzzz']\n",
    "\n",
    "[[2], [3], [4], [3], [4], [5], [4], [5], [6]] [[2, 3, 4, 5], [3, 4, 5, 6],\n",
    "\n",
    "[4, 5, 6, 7], [5, 6, 7, 8]]\n",
    "\n",
    "[(1, 1), (2, 1), (3, 1), (1, 2), (2, 2), (3, 2), (1, 3), (2, 3), (3, 3)]"
   ]
  },
  {
   "cell_type": "markdown",
   "id": "52afa473",
   "metadata": {},
   "source": [
    "##### Solution 1: 1st List comprehensions"
   ]
  },
  {
   "cell_type": "code",
   "execution_count": 1,
   "id": "39ea59b0",
   "metadata": {},
   "outputs": [
    {
     "data": {
      "text/plain": [
       "['A', 'C', 'A', 'D', 'G', 'I', 'L', 'D']"
      ]
     },
     "execution_count": 1,
     "metadata": {},
     "output_type": "execute_result"
    }
   ],
   "source": [
    "[i for i in 'ACADGILD']"
   ]
  },
  {
   "cell_type": "markdown",
   "id": "4d1be1bd",
   "metadata": {},
   "source": [
    "##### Solution 2: 2nd List comprehensions"
   ]
  },
  {
   "cell_type": "code",
   "execution_count": 10,
   "id": "453d7965",
   "metadata": {
    "scrolled": true
   },
   "outputs": [
    {
     "data": {
      "text/plain": [
       "[['x', 'xx', 'xxx', 'xxxx'],\n",
       " ['y', 'yy', 'yyy', 'yyyy'],\n",
       " ['z', 'zz', 'zzz', 'zzzz']]"
      ]
     },
     "execution_count": 10,
     "metadata": {},
     "output_type": "execute_result"
    }
   ],
   "source": [
    "#created list by comprehensions\n",
    "[[i,i*2,i*3,i*4] for i in 'xyz']"
   ]
  },
  {
   "cell_type": "code",
   "execution_count": null,
   "id": "bd9c3a2a",
   "metadata": {},
   "outputs": [],
   "source": [
    "# formed list is multi dimensional so conert it into single dimension by using \"sum(list,[])\"\n",
    "s"
   ]
  },
  {
   "cell_type": "markdown",
   "id": "289302e2",
   "metadata": {},
   "source": [
    "##### Solution 3: 3rd List comprehensions"
   ]
  },
  {
   "cell_type": "code",
   "execution_count": 3,
   "id": "ec7ce81d",
   "metadata": {},
   "outputs": [
    {
     "data": {
      "text/plain": [
       "['x', 'y', 'z', 'xx', 'yy', 'zz', 'xxx', 'yyy', 'zzz', 'xxxx', 'yyyy', 'zzzz']"
      ]
     },
     "execution_count": 3,
     "metadata": {},
     "output_type": "execute_result"
    }
   ],
   "source": [
    "[i for i in 'xyz']+[i*2 for i in 'xyz']+[i*3 for i in 'xyz']+[i*4 for i in 'xyz']"
   ]
  },
  {
   "cell_type": "markdown",
   "id": "c30a0cb5",
   "metadata": {},
   "source": [
    "##### Solution 4: 4th List comprehensions"
   ]
  },
  {
   "cell_type": "code",
   "execution_count": 4,
   "id": "fce34558",
   "metadata": {},
   "outputs": [],
   "source": [
    "# Not solved 🤷‍♂️"
   ]
  },
  {
   "cell_type": "markdown",
   "id": "97671370",
   "metadata": {},
   "source": [
    "##### Solution 5: 5th List comprehensions"
   ]
  },
  {
   "cell_type": "code",
   "execution_count": 5,
   "id": "4b0d9b26",
   "metadata": {},
   "outputs": [
    {
     "data": {
      "text/plain": [
       "[(1, 1), (2, 1), (3, 1), (1, 2), (2, 2), (3, 2), (1, 3), (2, 3), (3, 3)]"
      ]
     },
     "execution_count": 5,
     "metadata": {},
     "output_type": "execute_result"
    }
   ],
   "source": [
    "[(i,1) for i in [1,2,3]]+[(i,2) for i in [1,2,3]]+[(i,3) for i in [1,2,3]]"
   ]
  },
  {
   "cell_type": "code",
   "execution_count": null,
   "id": "2b3bf054",
   "metadata": {},
   "outputs": [],
   "source": []
  }
 ],
 "metadata": {
  "kernelspec": {
   "display_name": "Python 3 (ipykernel)",
   "language": "python",
   "name": "python3"
  },
  "language_info": {
   "codemirror_mode": {
    "name": "ipython",
    "version": 3
   },
   "file_extension": ".py",
   "mimetype": "text/x-python",
   "name": "python",
   "nbconvert_exporter": "python",
   "pygments_lexer": "ipython3",
   "version": "3.8.8"
  }
 },
 "nbformat": 4,
 "nbformat_minor": 5
}
