{
 "cells": [
  {
   "cell_type": "markdown",
   "id": "4c7f91ae",
   "metadata": {},
   "source": [
    "##### Write a Python program to implement your own myfilter() function which works exactly like Python's built-in function filter()"
   ]
  },
  {
   "cell_type": "raw",
   "id": "b89663cb",
   "metadata": {},
   "source": [
    "filter(function, iterable)"
   ]
  },
  {
   "cell_type": "markdown",
   "id": "b32d3d38",
   "metadata": {},
   "source": [
    "###### fiter() function trequired two perameters:\n",
    "                                        1)function: lambad function or mannual function (whcich returns True)\n",
    "                                        2)itrable: list, tuple, dict, set\n",
    "                                        \n",
    "                                        \n",
    "  Note: filter function alwasy return value like \"filter at 0x21359866c70\"(memory location), so by storing it in a itrable(list, tuple, dict, set) we can store it in a variable"
   ]
  },
  {
   "cell_type": "code",
   "execution_count": 1,
   "id": "8cb44b6f",
   "metadata": {},
   "outputs": [],
   "source": [
    "# created a mannual function to check elemen is even or not, if yes return True(boolean)\n",
    "def even(a):\n",
    "    if a%2==0:\n",
    "        return True"
   ]
  },
  {
   "cell_type": "code",
   "execution_count": 2,
   "id": "72292f08",
   "metadata": {},
   "outputs": [],
   "source": [
    "# itrable: list\n",
    "n=[10,11,12,13,14,15,16,17]"
   ]
  },
  {
   "cell_type": "code",
   "execution_count": 3,
   "id": "08a38012",
   "metadata": {},
   "outputs": [
    {
     "data": {
      "text/plain": [
       "<filter at 0x228529a3c40>"
      ]
     },
     "execution_count": 3,
     "metadata": {},
     "output_type": "execute_result"
    }
   ],
   "source": [
    "#call  filter function wit two perameters (function, iterable) \n",
    "filter(even,n)"
   ]
  },
  {
   "cell_type": "code",
   "execution_count": 4,
   "id": "33b85a6c",
   "metadata": {},
   "outputs": [
    {
     "data": {
      "text/plain": [
       "(10, 12, 14, 16)"
      ]
     },
     "execution_count": 4,
     "metadata": {},
     "output_type": "execute_result"
    }
   ],
   "source": [
    "#passing throug a itrable(tuple) to print values\n",
    "tuple(filter(even,n))"
   ]
  },
  {
   "cell_type": "raw",
   "id": "991c5126",
   "metadata": {},
   "source": [
    "Construct an iterator from those elements of iterable for which function returns true. iterable may be either a sequence, a container which supports iteration, or an iterator. If function is None, the identity function is assumed, that is, all elements of iterable that are false are removed.\n",
    "\n",
    "reference:-https://docs.python.org/3/library/functions.html#filter"
   ]
  },
  {
   "cell_type": "code",
   "execution_count": 5,
   "id": "6799c5a2",
   "metadata": {},
   "outputs": [],
   "source": [
    "#creating myfilter() function\n",
    "def myfilter(func,seq):     #defining myfilter() function with two perameter(function, iterable)\n",
    "    itr=iter(seq)           #convert a itrable in itrator \n",
    "    for i in itr:           #passing the elements of itrator through function(boolean) which define its true or not\n",
    "        if func(i) is True: # all the  elements are holded for which condition is True \n",
    "            yield i "
   ]
  },
  {
   "cell_type": "code",
   "execution_count": 6,
   "id": "022b55ff",
   "metadata": {},
   "outputs": [
    {
     "data": {
      "text/plain": [
       "<generator object myfilter at 0x0000022852A3DB30>"
      ]
     },
     "execution_count": 6,
     "metadata": {},
     "output_type": "execute_result"
    }
   ],
   "source": [
    "#call myfilter function with two perameters (function:even, iterable:n(list)) \n",
    "myfilter(even,n)     "
   ]
  },
  {
   "cell_type": "raw",
   "id": "8b40c7f1",
   "metadata": {},
   "source": [
    "as like filter() function myfilter() return value like <generator object myfilter at 0x000002135A6C7BA0> (memory location),so need to storing it in a itrable(list, tuple, dict, set) we can store it in a variable"
   ]
  },
  {
   "cell_type": "code",
   "execution_count": 7,
   "id": "c67f27cc",
   "metadata": {},
   "outputs": [
    {
     "data": {
      "text/plain": [
       "[10, 12, 14, 16]"
      ]
     },
     "execution_count": 7,
     "metadata": {},
     "output_type": "execute_result"
    }
   ],
   "source": [
    "# by store in a list can able to print list\n",
    "list(myfilter(even,n))  "
   ]
  },
  {
   "cell_type": "code",
   "execution_count": 8,
   "id": "10a8ff91",
   "metadata": {},
   "outputs": [
    {
     "data": {
      "text/plain": [
       "(5, 10, 15, 20, 25, 30, 35, 40, 45, 50, 55, 60, 65, 70, 75, 80, 85, 90, 95)"
      ]
     },
     "execution_count": 8,
     "metadata": {},
     "output_type": "execute_result"
    }
   ],
   "source": [
    "#from first 100 natural number find out all the numbers  multiple number which are multiple of 5 by using myfilter() function\n",
    "tuple(myfilter(lambda x:x%5==0,[i for i in range(1,100)])) "
   ]
  },
  {
   "cell_type": "markdown",
   "id": "700c99e7",
   "metadata": {},
   "source": [
    "#### now can do all the operation by myfilter() function as same as built_in filter() function"
   ]
  }
 ],
 "metadata": {
  "kernelspec": {
   "display_name": "Python 3 (ipykernel)",
   "language": "python",
   "name": "python3"
  },
  "language_info": {
   "codemirror_mode": {
    "name": "ipython",
    "version": 3
   },
   "file_extension": ".py",
   "mimetype": "text/x-python",
   "name": "python",
   "nbconvert_exporter": "python",
   "pygments_lexer": "ipython3",
   "version": "3.8.11"
  }
 },
 "nbformat": 4,
 "nbformat_minor": 5
}
