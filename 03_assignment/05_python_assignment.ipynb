{
 "cells": [
  {
   "cell_type": "markdown",
   "id": "23be3289",
   "metadata": {},
   "source": [
    "#### Write a Python Program to implement your own myreduce() function which works exactly like Python's built-in function reduce()"
   ]
  },
  {
   "cell_type": "markdown",
   "id": "dbdb50f4",
   "metadata": {},
   "source": [
    "frist we check hows the inbuilt reduce() function works"
   ]
  },
  {
   "cell_type": "code",
   "execution_count": 1,
   "id": "73e36ca5",
   "metadata": {},
   "outputs": [],
   "source": [
    "from functools import reduce #import reduce function from functool liberary  "
   ]
  },
  {
   "cell_type": "markdown",
   "id": "14846188",
   "metadata": {},
   "source": [
    "##### reduce(function, sequence[, initial])  "
   ]
  },
  {
   "cell_type": "markdown",
   "id": "1e1feb72",
   "metadata": {},
   "source": [
    "###### here needs three perameters in the body of reduce() to call the function:\n",
    "                                                          1) function: a normal function or lambda function\n",
    "                                                          2) a sequence (itrables) eg: list, tupple, etc.\n",
    "                                                          3) initial:added by choice (add according to element type itrable)\n",
    "                                                                            "
   ]
  },
  {
   "cell_type": "code",
   "execution_count": 2,
   "id": "fc513df9",
   "metadata": {},
   "outputs": [],
   "source": [
    "function=lambda x,y:x+y   #created a lambda function"
   ]
  },
  {
   "cell_type": "code",
   "execution_count": 3,
   "id": "d903a882",
   "metadata": {},
   "outputs": [],
   "source": [
    "sequence=['Love', \"preet\",\" \", \"Singh\"] # a list(itrable) of string elements"
   ]
  },
  {
   "cell_type": "code",
   "execution_count": 4,
   "id": "ab90d96d",
   "metadata": {},
   "outputs": [
    {
     "data": {
      "text/plain": [
       "'Lovepreet Singh'"
      ]
     },
     "execution_count": 4,
     "metadata": {},
     "output_type": "execute_result"
    }
   ],
   "source": [
    "reduce(function,sequence) #called a reduse function without initializer"
   ]
  },
  {
   "cell_type": "code",
   "execution_count": 5,
   "id": "7e22dc37",
   "metadata": {},
   "outputs": [
    {
     "data": {
      "text/plain": [
       "'Hi Lovepreet Singh'"
      ]
     },
     "execution_count": 5,
     "metadata": {},
     "output_type": "execute_result"
    }
   ],
   "source": [
    "# also can donate like this\n",
    "reduce(lambda x,y:x+y, ['Love', \"preet\",\" \", \"Singh\"] ,\"Hi \") #here provide a string initializor (\"Hi\")"
   ]
  },
  {
   "cell_type": "markdown",
   "id": "24d45b8d",
   "metadata": {},
   "source": [
    "__________________________________________________________________________________________________________________________________________"
   ]
  },
  {
   "cell_type": "markdown",
   "id": "372ab7c8",
   "metadata": {},
   "source": [
    "##### now creating myreduce function which is try to work same as same built-in function reduce()"
   ]
  },
  {
   "cell_type": "raw",
   "id": "8f1f9fba",
   "metadata": {},
   "source": [
    "reduce(function, sequence[, initial]) -> value\n",
    "\n",
    "Apply a function of two arguments cumulatively to the items of a sequence,\n",
    "from left to right, so as to reduce the sequence to a single value.\n",
    "For example, reduce(lambda x, y: x+y, [1, 2, 3, 4, 5]) calculates\n",
    "((((1+2)+3)+4)+5).  If initial is present, it is placed before the items\n",
    "of the sequence in the calculation, and serves as a default when the\n",
    "sequence is empty\n",
    "\n",
    "referance:-  Docstring: reduce()"
   ]
  },
  {
   "cell_type": "code",
   "execution_count": 6,
   "id": "4266c713",
   "metadata": {},
   "outputs": [],
   "source": [
    "def myreduce(func,seq,initial=None):  # create a function with 3 perameters \n",
    "    itr = iter(seq)                   #convert itrable inro itrator\n",
    "    if initial is None:               # if initial is not given at time of function call initial considered as None\n",
    "        value=next(itr)\n",
    "    else:                            #if initial is given then value is  considerd as given value\n",
    "        value=initial\n",
    "    \n",
    "    for i in itr:                    # every element of itrator passed threw the function given at time of function_call\n",
    "        value = func(value, i)          \n",
    "    yield value                      # after whole for loop execution for each element present final value stored\n",
    "\n",
    "        "
   ]
  },
  {
   "cell_type": "code",
   "execution_count": 7,
   "id": "a419109d",
   "metadata": {},
   "outputs": [
    {
     "data": {
      "text/plain": [
       "<generator object myreduce at 0x000002C6D0506510>"
      ]
     },
     "execution_count": 7,
     "metadata": {},
     "output_type": "execute_result"
    }
   ],
   "source": [
    "myreduce(function,sequence)   #call the myreduce function with peramete function and sequence which are defined above "
   ]
  },
  {
   "cell_type": "code",
   "execution_count": 11,
   "id": "3d2e90ad",
   "metadata": {},
   "outputs": [],
   "source": [
    "# also can describe as: \n",
    "z=myreduce(lambda x,y:x+y, ['Love', \"preet\",\" \", \"Singh\"] ,\"Hi \") #here provide a string initializor (\"Hi\")"
   ]
  },
  {
   "cell_type": "code",
   "execution_count": 13,
   "id": "1ad22a60",
   "metadata": {},
   "outputs": [
    {
     "name": "stdout",
     "output_type": "stream",
     "text": [
      "['Hi Lovepreet Singh']\n"
     ]
    }
   ],
   "source": [
    "print(list(z))"
   ]
  },
  {
   "cell_type": "code",
   "execution_count": 9,
   "id": "5b835509",
   "metadata": {},
   "outputs": [
    {
     "data": {
      "text/plain": [
       "<generator object myreduce at 0x000002C6D0506970>"
      ]
     },
     "execution_count": 9,
     "metadata": {},
     "output_type": "execute_result"
    }
   ],
   "source": [
    "#factorial of first 10 natural niumbers\n",
    "myreduce(lambda x,y:x*y,[i for i in range(1,11)])"
   ]
  },
  {
   "cell_type": "code",
   "execution_count": 10,
   "id": "52f298e1",
   "metadata": {},
   "outputs": [
    {
     "data": {
      "text/plain": [
       "[1, 2, 3, 4, 5, 6, 7, 8, 9, 10]"
      ]
     },
     "execution_count": 10,
     "metadata": {},
     "output_type": "execute_result"
    }
   ],
   "source": [
    "# list comeprehension used above\n",
    "[i for i in range(1,11)]"
   ]
  },
  {
   "cell_type": "markdown",
   "id": "759d1bd4",
   "metadata": {},
   "source": [
    "#####  now can do all the operation by myreduce() function as same as  built_in reduce() function"
   ]
  },
  {
   "cell_type": "markdown",
   "id": "476ddb9c",
   "metadata": {},
   "source": [
    "_________________________________________________________________________________________________________________________________________________"
   ]
  }
 ],
 "metadata": {
  "kernelspec": {
   "display_name": "Python 3 (ipykernel)",
   "language": "python",
   "name": "python3"
  },
  "language_info": {
   "codemirror_mode": {
    "name": "ipython",
    "version": 3
   },
   "file_extension": ".py",
   "mimetype": "text/x-python",
   "name": "python",
   "nbconvert_exporter": "python",
   "pygments_lexer": "ipython3",
   "version": "3.8.8"
  }
 },
 "nbformat": 4,
 "nbformat_minor": 5
}
