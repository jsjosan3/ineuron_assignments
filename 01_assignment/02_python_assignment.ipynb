{
 "cells": [
  {
   "cell_type": "markdown",
   "id": "f9651b00",
   "metadata": {},
   "source": [
    "#### Write a Python program to accept the users first and last name and then getting them printed in the the reverse order with a space between first name and last name"
   ]
  },
  {
   "cell_type": "code",
   "execution_count": 11,
   "id": "99c5c204",
   "metadata": {},
   "outputs": [
    {
     "name": "stdout",
     "output_type": "stream",
     "text": [
      "Enter your first name: Lovely\n",
      "Enter your last name: Josan\n"
     ]
    },
    {
     "data": {
      "text/plain": [
       "'nasoJ ylevoL'"
      ]
     },
     "execution_count": 11,
     "metadata": {},
     "output_type": "execute_result"
    }
   ],
   "source": [
    "a=input(\"Enter your first name: \")\n",
    "b=input(\"Enter your last name: \")\n",
    "name=(a+\" \"+b)\n",
    "name[::-1]\n",
    "print(name)"
   ]
  },
  {
   "cell_type": "markdown",
   "id": "42c37644",
   "metadata": {},
   "source": [
    "_______________________________________________________________________________________________________________________________"
   ]
  },
  {
   "cell_type": "markdown",
   "id": "07c3f60c",
   "metadata": {},
   "source": [
    "### solution:\n",
    "                first created two variables a & b for input of first name and last name respectively\n",
    "                both are of string type variables by default\n",
    "                after input of variables both are got concatenated with a space present and saved in a variable \"name\"\n",
    "                than reversed the string and name got printed in reverse manner\n",
    "              \n"
   ]
  }
 ],
 "metadata": {
  "kernelspec": {
   "display_name": "Python 3 (ipykernel)",
   "language": "python",
   "name": "python3"
  },
  "language_info": {
   "codemirror_mode": {
    "name": "ipython",
    "version": 3
   },
   "file_extension": ".py",
   "mimetype": "text/x-python",
   "name": "python",
   "nbconvert_exporter": "python",
   "pygments_lexer": "ipython3",
   "version": "3.8.11"
  }
 },
 "nbformat": 4,
 "nbformat_minor": 5
}
