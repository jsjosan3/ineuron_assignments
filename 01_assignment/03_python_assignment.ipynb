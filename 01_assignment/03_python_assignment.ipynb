{
 "cells": [
  {
   "cell_type": "markdown",
   "id": "134fbf00",
   "metadata": {},
   "source": [
    "#### Write a Python program to find the volume of a sphere with diameter 12 cm\n",
    "        Formula: V=4/3 * π * r 3"
   ]
  },
  {
   "cell_type": "code",
   "execution_count": 1,
   "id": "43e2ebc7",
   "metadata": {},
   "outputs": [
    {
     "name": "stdout",
     "output_type": "stream",
     "text": [
      "Volume of sphere having radius 12 cm is 904.32 cubic cm \n"
     ]
    }
   ],
   "source": [
    "d=12               #diameter of sphere  \n",
    "r=d/2              # radius of sphere\n",
    "pi=3.14            # define value of pi\n",
    "\n",
    "area=round(4/3*pi*(r**3),2)          #area Calculation of sphere by using (Formula: V=4/3 * π * r 3)\n",
    "\n",
    "print(f\"Volume of sphere having radius {d} cm is {area} cubic cm \")  #print the voume of sphere "
   ]
  },
  {
   "cell_type": "markdown",
   "id": "c176f079",
   "metadata": {},
   "source": [
    "_________________________________________________________________________________________________________________________________________________"
   ]
  },
  {
   "cell_type": "markdown",
   "id": "d90fa793",
   "metadata": {},
   "source": [
    "##### solution:\n",
    "           first convert given diameter in radius\n",
    "           tahn area is calculated by using Formula: V=4/3 * π * r 3\n",
    "           then printed the area of sphere\n",
    "       #Note: here i not used pre-defined value of using math.pi\n",
    "       so i created a variable name pi=3.14 manually\n"
   ]
  }
 ],
 "metadata": {
  "kernelspec": {
   "display_name": "Python 3 (ipykernel)",
   "language": "python",
   "name": "python3"
  },
  "language_info": {
   "codemirror_mode": {
    "name": "ipython",
    "version": 3
   },
   "file_extension": ".py",
   "mimetype": "text/x-python",
   "name": "python",
   "nbconvert_exporter": "python",
   "pygments_lexer": "ipython3",
   "version": "3.8.11"
  }
 },
 "nbformat": 4,
 "nbformat_minor": 5
}
