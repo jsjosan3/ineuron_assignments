{
 "cells": [
  {
   "cell_type": "markdown",
   "id": "756325bb",
   "metadata": {},
   "source": [
    "##### 2.1 Write a Python program using function concept that maps list of words into a list of integers representing the lengths of the corresponding words.\n",
    "    Hint: If a list [ ab,cde,erty] is passed on to the python function output should come as [2,3,4] Here 2,3 and 4 are the lengths of the words in the list."
   ]
  },
  {
   "cell_type": "markdown",
   "id": "45357d9b",
   "metadata": {},
   "source": [
    "__________________________________________________________________________________________________________________________________________________________"
   ]
  },
  {
   "cell_type": "markdown",
   "id": "75f33e8b",
   "metadata": {},
   "source": [
    "##### solution 1: by using a built in map() function "
   ]
  },
  {
   "cell_type": "code",
   "execution_count": 1,
   "id": "e0671c86",
   "metadata": {},
   "outputs": [],
   "source": [
    "#creating a list of words of various length\n",
    "lst=[\"Write\",'a', 'Python', 'program', 'using', 'function', 'concept']"
   ]
  },
  {
   "cell_type": "code",
   "execution_count": 2,
   "id": "ea4987d9",
   "metadata": {},
   "outputs": [],
   "source": [
    "#creating a function name length() which calculate the length of a string \n",
    "\n",
    "def length(a):\n",
    "    return len(a)"
   ]
  },
  {
   "cell_type": "code",
   "execution_count": 3,
   "id": "9d11ffb9",
   "metadata": {},
   "outputs": [
    {
     "data": {
      "text/plain": [
       "[5, 1, 6, 7, 5, 8, 7]"
      ]
     },
     "execution_count": 3,
     "metadata": {},
     "output_type": "execute_result"
    }
   ],
   "source": [
    "# by using map() And length() function measure the length of every string element present in list \n",
    "list(map(length,lst))"
   ]
  },
  {
   "cell_type": "markdown",
   "id": "fa0b20e0",
   "metadata": {},
   "source": [
    "##### solution 2: by creating a my  own map function which works as same as built in map function "
   ]
  },
  {
   "cell_type": "code",
   "execution_count": 4,
   "id": "61108930",
   "metadata": {},
   "outputs": [
    {
     "data": {
      "text/plain": [
       "[5, 1, 6, 7, 5, 8, 7]"
      ]
     },
     "execution_count": 4,
     "metadata": {},
     "output_type": "execute_result"
    }
   ],
   "source": [
    "#create a function of name mymap() which convert each and every element into a itrator \n",
    "#and apply length() function on each and every element present in list\n",
    "\n",
    "def mymap(func,seq):\n",
    "    itr=iter(seq)\n",
    "    for i in itr:\n",
    "        value=func(i)\n",
    "        yield value\n",
    "        \n",
    "list(mymap(length,lst))"
   ]
  },
  {
   "cell_type": "markdown",
   "id": "d4541dbc",
   "metadata": {},
   "source": [
    "##### solution 3: by creating a class of name mapping and subfunction maplength()"
   ]
  },
  {
   "cell_type": "code",
   "execution_count": 5,
   "id": "0cdf5474",
   "metadata": {},
   "outputs": [
    {
     "name": "stdout",
     "output_type": "stream",
     "text": [
      "[5, 1, 6, 7, 5, 8, 7]\n"
     ]
    }
   ],
   "source": [
    "class mapping:                  #define a class  of name mapping and initialize it with one variable\n",
    "    def __init__(self,list1):    \n",
    "        self.list1=list1\n",
    "    \n",
    "    def maplength(self):               # created a subfunction  of name maplength() \n",
    "        return [len(i) for i in lst]  #which return the length of each and every element present in list by using list comperhrnsion\n",
    "\n",
    "mapp=mapping(lst)                   #invoke class mapping by passing a variable\n",
    "print(mapp.maplength())"
   ]
  },
  {
   "cell_type": "code",
   "execution_count": null,
   "id": "4ed7cf56",
   "metadata": {},
   "outputs": [],
   "source": []
  }
 ],
 "metadata": {
  "kernelspec": {
   "display_name": "Python 3 (ipykernel)",
   "language": "python",
   "name": "python3"
  },
  "language_info": {
   "codemirror_mode": {
    "name": "ipython",
    "version": 3
   },
   "file_extension": ".py",
   "mimetype": "text/x-python",
   "name": "python",
   "nbconvert_exporter": "python",
   "pygments_lexer": "ipython3",
   "version": "3.8.8"
  }
 },
 "nbformat": 4,
 "nbformat_minor": 5
}
