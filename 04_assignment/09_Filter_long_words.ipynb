{
 "cells": [
  {
   "cell_type": "markdown",
   "id": "85285375",
   "metadata": {},
   "source": [
    "##### 1.2 Write a function filter_long_words() that takes a list of words and an integer n and returns the list of words that are longer than n.\n"
   ]
  },
  {
   "cell_type": "markdown",
   "id": "301a215a",
   "metadata": {},
   "source": [
    "here, i solved this problem statement by 3 different ways:"
   ]
  },
  {
   "cell_type": "markdown",
   "id": "aba0a38d",
   "metadata": {},
   "source": [
    "###### solution:1   by creating a function equivelant to built_in filter() function"
   ]
  },
  {
   "cell_type": "markdown",
   "id": "4d7f44d9",
   "metadata": {},
   "source": [
    "first of all created a list and which take input from user "
   ]
  },
  {
   "cell_type": "code",
   "execution_count": null,
   "id": "26fe9b03",
   "metadata": {},
   "outputs": [],
   "source": [
    "# define a list of name seq (sequence)\n",
    "seq=['by' ,'creating', 'equivelant', 'to' ,'built_in filter()' ,'function',12345,123,5678,98765] \n"
   ]
  },
  {
   "cell_type": "code",
   "execution_count": null,
   "id": "81676097",
   "metadata": {},
   "outputs": [],
   "source": [
    "# define an intger_input for select the length of elemnts in an itrables    \n",
    "n1=int(input(\"max_length: \"))"
   ]
  },
  {
   "cell_type": "code",
   "execution_count": null,
   "id": "3dc57ab2",
   "metadata": {},
   "outputs": [],
   "source": [
    "# creating a function which select the lenght of word longer than input integer'n1' \n",
    "\n",
    "def len_fun(a):\n",
    "    if len(str(a))>n1:      #convert all elements of list into str_type to measure the length of elements\n",
    "            return True\n",
    "    "
   ]
  },
  {
   "cell_type": "code",
   "execution_count": null,
   "id": "2ca5fefb",
   "metadata": {},
   "outputs": [],
   "source": [
    "def filter_long_words(func,list1):\n",
    "    itr=iter(list1)           #convert a itrable in itrator \n",
    "    for i in itr:           #passing the elements of itrator through function(boolean) which define its true or not\n",
    "        if func(i) is True: # all the  elements are holded for which condition is True \n",
    "            yield i\n",
    "            \n",
    "            \n",
    "list(filter_long_words(len_fun,seq))   #filter all the words and integer having length longer then 'n1=4' "
   ]
  },
  {
   "cell_type": "markdown",
   "id": "55c8c0f3",
   "metadata": {},
   "source": [
    "_________________________________________________________________________________________________________________________________________________________"
   ]
  },
  {
   "cell_type": "markdown",
   "id": "1cde0430",
   "metadata": {},
   "source": [
    "##### Solution: 2    by creating a class and using filter() +  lambda() function"
   ]
  },
  {
   "cell_type": "markdown",
   "id": "2e5ef1c0",
   "metadata": {},
   "source": [
    "here, defining a class name Filter and a sub function of name long_words "
   ]
  },
  {
   "cell_type": "code",
   "execution_count": null,
   "id": "945132e8",
   "metadata": {},
   "outputs": [],
   "source": [
    "class Filter:                          #create a class\n",
    "    def __init__(self,list1,n):        # initialize the class\n",
    "        self.list1=list1        \n",
    "        self.n=n\n",
    "    \n",
    "    def long_words(self):                                          #creating a subfunction of name long_words\n",
    "        return list(filter(lambda x:len(str(x))>self.n,self.list1)) \n",
    "    \n",
    "                    #using filter() and lambda() function after type_casting as str of each and every element in list  \n",
    "    \n",
    "\n",
    "myfilter_1=Filter(seq,n1)       \n",
    "print(myfilter_1.long_words())   # by inwoke the function print all words and integers having the length longer than 'n1'\n"
   ]
  },
  {
   "cell_type": "markdown",
   "id": "6de7bd1a",
   "metadata": {},
   "source": [
    "____________________________________________________________________________________________________________________________________________________"
   ]
  },
  {
   "cell_type": "markdown",
   "id": "940c6153",
   "metadata": {},
   "source": [
    "##### solution: 4    by  creating a class  and  list comprehension"
   ]
  },
  {
   "cell_type": "code",
   "execution_count": null,
   "id": "a7f18040",
   "metadata": {},
   "outputs": [],
   "source": [
    "class Filter1:                   #create a class\n",
    "    def __init__(self,list2,n):  # initialize the class\n",
    "        self.list2=list2\n",
    "        self.n=n\n",
    "    \n",
    "    def long_words1(self):                              #creating a subfunction of name long_words1\n",
    "        return [i for i in self.list2 if len(str(i))>self.n]\n",
    "                                            #by using list comprehension select all the elements having length grater than \"n1\"\n",
    "\n",
    "        \n",
    "myfilter_2=Filter1(seq,n1)        #created an instance by using required perameters\n",
    "print(myfilter_2.long_words1())   # by inwoke the function print all words and integers having the length longer than 'n1'"
   ]
  },
  {
   "cell_type": "markdown",
   "id": "4e1811b1",
   "metadata": {},
   "source": [
    "###### Note: results are the same in all solutions"
   ]
  }
 ],
 "metadata": {
  "kernelspec": {
   "display_name": "Python 3 (ipykernel)",
   "language": "python",
   "name": "python3"
  },
  "language_info": {
   "codemirror_mode": {
    "name": "ipython",
    "version": 3
   },
   "file_extension": ".py",
   "mimetype": "text/x-python",
   "name": "python",
   "nbconvert_exporter": "python",
   "pygments_lexer": "ipython3",
   "version": "3.8.8"
  }
 },
 "nbformat": 4,
 "nbformat_minor": 5
}
