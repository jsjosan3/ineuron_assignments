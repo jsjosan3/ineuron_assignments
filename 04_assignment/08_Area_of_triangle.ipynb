{
 "cells": [
  {
   "cell_type": "markdown",
   "id": "d5664f49",
   "metadata": {},
   "source": [
    "\n",
    "#### 1.1 Write a Python Program(with class concepts) to find the area of the triangle using the below formula.\n",
    "    \n",
    "    area = (s*(s-a)*(s-b)*(s-c)) ** 0.5\n",
    "\n",
    "###### Function to take the length of the sides of triangle from user should be defined in the parent class and function to calculate the area should be defined in subclass.\n"
   ]
  },
  {
   "cell_type": "code",
   "execution_count": 2,
   "id": "9c86b9d7",
   "metadata": {},
   "outputs": [
    {
     "name": "stdout",
     "output_type": "stream",
     "text": [
      "Length of side_1: 10\n",
      "Length of side_2: 10\n",
      "Length of side_3: 10\n"
     ]
    }
   ],
   "source": [
    "# define three inputes of integer type to accept the length of 3 sides triange from user \n",
    "\n",
    "l1=float(input('Length of side_1: '))\n",
    "l2=float(input('Length of side_2: '))\n",
    "l3=float(input('Length of side_3: '))"
   ]
  },
  {
   "cell_type": "code",
   "execution_count": 4,
   "id": "61aa1644",
   "metadata": {},
   "outputs": [
    {
     "name": "stdout",
     "output_type": "stream",
     "text": [
      "Area of triangle is 43.30127018922193\n"
     ]
    }
   ],
   "source": [
    "#creating a class  of name Triangle \n",
    "class Triangle:\n",
    "    def __init__(self,a,b,c):   #intialize the class to accept the length of the sides of triangle\n",
    "        self.a=a\n",
    "        self.b=b\n",
    "        self.c=c\n",
    "    def Area(self):           #subfunction Area to calculate the area of triangle\n",
    "        s=(self.a+self.b+self.c)/2    # definig s=(a+b+c)/2 according to Heron's Formula (ref:https://mste.illinois.edu/dildine/heron/triarea.html)\n",
    "        \n",
    "        return f'Area of triangle is {(s*(s-self.a)*(s-self.b)*(s-self.c)) ** 0.5}'  #area of triangle calculated withe the help of above give expression\n",
    "\n",
    "\n",
    "\n",
    "tri=Triangle(l1,l2,l3)       #inwoke class Area with required perameters\n",
    "print(tri.Area())    # print the area of triangle by using subfunction (triangle)"
   ]
  },
  {
   "cell_type": "markdown",
   "id": "19457d20",
   "metadata": {},
   "source": [
    "________________________________________________________________________________________________________________________________________________"
   ]
  },
  {
   "cell_type": "markdown",
   "id": "dad3c556",
   "metadata": {},
   "source": []
  }
 ],
 "metadata": {
  "kernelspec": {
   "display_name": "Python 3 (ipykernel)",
   "language": "python",
   "name": "python3"
  },
  "language_info": {
   "codemirror_mode": {
    "name": "ipython",
    "version": 3
   },
   "file_extension": ".py",
   "mimetype": "text/x-python",
   "name": "python",
   "nbconvert_exporter": "python",
   "pygments_lexer": "ipython3",
   "version": "3.8.8"
  }
 },
 "nbformat": 4,
 "nbformat_minor": 5
}
