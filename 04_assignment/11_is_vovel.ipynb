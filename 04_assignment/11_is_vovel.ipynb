{
 "cells": [
  {
   "cell_type": "markdown",
   "id": "3f986daa",
   "metadata": {},
   "source": [
    "##### 2.2 Write a Python function which takes a character (i.e. a string of length 1) and returns True if it is a vowel, False otherwise."
   ]
  },
  {
   "cell_type": "code",
   "execution_count": 1,
   "id": "c32fa2d4",
   "metadata": {},
   "outputs": [],
   "source": [
    "#creat a function of name is_vovel() takes character & returns True if it is a vowel either the given character is capital or lower\n",
    "def is_vovel(x):\n",
    "    if x.lower() in ['a','e','i','o','u']:   \n",
    "        return True\n",
    "    else:\n",
    "        return False"
   ]
  },
  {
   "cell_type": "code",
   "execution_count": 2,
   "id": "ac7b2f03",
   "metadata": {},
   "outputs": [
    {
     "data": {
      "text/plain": [
       "True"
      ]
     },
     "execution_count": 2,
     "metadata": {},
     "output_type": "execute_result"
    }
   ],
   "source": [
    "is_vovel('O')"
   ]
  },
  {
   "cell_type": "code",
   "execution_count": 3,
   "id": "aedb207e",
   "metadata": {},
   "outputs": [
    {
     "data": {
      "text/plain": [
       "False"
      ]
     },
     "execution_count": 3,
     "metadata": {},
     "output_type": "execute_result"
    }
   ],
   "source": [
    "is_vovel('w')"
   ]
  },
  {
   "cell_type": "code",
   "execution_count": 4,
   "id": "ea43adfa",
   "metadata": {},
   "outputs": [
    {
     "data": {
      "text/plain": [
       "True"
      ]
     },
     "execution_count": 4,
     "metadata": {},
     "output_type": "execute_result"
    }
   ],
   "source": [
    "is_vovel('i')"
   ]
  },
  {
   "cell_type": "code",
   "execution_count": 5,
   "id": "2c6c2f22",
   "metadata": {},
   "outputs": [
    {
     "data": {
      "text/plain": [
       "True"
      ]
     },
     "execution_count": 5,
     "metadata": {},
     "output_type": "execute_result"
    }
   ],
   "source": [
    "is_vovel('U')"
   ]
  },
  {
   "cell_type": "code",
   "execution_count": 6,
   "id": "8c892299",
   "metadata": {},
   "outputs": [
    {
     "data": {
      "text/plain": [
       "True"
      ]
     },
     "execution_count": 6,
     "metadata": {},
     "output_type": "execute_result"
    }
   ],
   "source": [
    "is_vovel('a' and 'E')"
   ]
  },
  {
   "cell_type": "code",
   "execution_count": 7,
   "id": "63c9b5a0",
   "metadata": {},
   "outputs": [
    {
     "data": {
      "text/plain": [
       "False"
      ]
     },
     "execution_count": 7,
     "metadata": {},
     "output_type": "execute_result"
    }
   ],
   "source": [
    "is_vovel(\"s\" and \"L\" and \"p\")"
   ]
  },
  {
   "cell_type": "code",
   "execution_count": null,
   "id": "b25c3131",
   "metadata": {},
   "outputs": [],
   "source": []
  }
 ],
 "metadata": {
  "kernelspec": {
   "display_name": "Python 3 (ipykernel)",
   "language": "python",
   "name": "python3"
  },
  "language_info": {
   "codemirror_mode": {
    "name": "ipython",
    "version": 3
   },
   "file_extension": ".py",
   "mimetype": "text/x-python",
   "name": "python",
   "nbconvert_exporter": "python",
   "pygments_lexer": "ipython3",
   "version": "3.8.8"
  }
 },
 "nbformat": 4,
 "nbformat_minor": 5
}
