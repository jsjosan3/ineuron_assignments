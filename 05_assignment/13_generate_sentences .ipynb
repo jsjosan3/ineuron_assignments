{
 "cells": [
  {
   "cell_type": "markdown",
   "id": "b76d5323",
   "metadata": {},
   "source": [
    "###### 2. Implement a Python program to generate all sentences where subject is in [\"Americans\", \"Indians\"] and verb is in [\"Play\", \"watch\"] and the object is in [\"Baseball\",\"cricket\"].\n",
    "\n",
    "    Hint: Subject,Verb and Object should be declared in the program as shown below.\n",
    "            subjects=[\"Americans \",\"Indians\"]\n",
    "            verbs=[\"play\",\"watch\"]\n",
    "            objects=[\"Baseball\",\"Cricket\"]\n",
    "    \n",
    "                                Output should come as below:\n",
    "                                                            Americans play Baseball:\n",
    "                                                            Americans play Cricket.\n",
    "                                                            Americans watch Baseball.\n",
    "                                                            Americans watch Cricket.\n",
    "                                                            Indians play Baseball.\n",
    "                                                            Indians play Cricket.\n",
    "                                                            Indians watch Baseball.\n",
    "                                                            Indians watch Cricket."
   ]
  },
  {
   "cell_type": "code",
   "execution_count": 1,
   "id": "783642ce",
   "metadata": {},
   "outputs": [],
   "source": [
    "subjects=[\"Americans\",\"Indians\"]\n",
    "verbs=[\"play\",\"watch\"]\n",
    "objects=[\"Baseball\",\"Cricket\"]"
   ]
  },
  {
   "cell_type": "code",
   "execution_count": 2,
   "id": "5c4783b5",
   "metadata": {},
   "outputs": [],
   "source": [
    "def func(sub,ver,obj):\n",
    "    try:\n",
    "        for i in range(2):      \n",
    "            try:\n",
    "                for j in range(2):\n",
    "                    try:\n",
    "                         for k in range(2):\n",
    "                                print (sub[i]+\" \"+ver[j]+\" \"+obj[k])\n",
    "                    except:\n",
    "                        print(\"error at 3rd loop\")\n",
    "            except:\n",
    "                print(\"error at 2nd loop\")\n",
    "    except:\n",
    "        print(\"error at 1st loop\")\n",
    "                    \n",
    "                        "
   ]
  },
  {
   "cell_type": "code",
   "execution_count": 3,
   "id": "19ec7063",
   "metadata": {},
   "outputs": [
    {
     "name": "stdout",
     "output_type": "stream",
     "text": [
      "Americans play Baseball\n",
      "Americans play Cricket\n",
      "Americans watch Baseball\n",
      "Americans watch Cricket\n",
      "Indians play Baseball\n",
      "Indians play Cricket\n",
      "Indians watch Baseball\n",
      "Indians watch Cricket\n"
     ]
    }
   ],
   "source": [
    "func(subjects,verbs,objects)"
   ]
  },
  {
   "cell_type": "code",
   "execution_count": null,
   "id": "21ed5dc4",
   "metadata": {},
   "outputs": [],
   "source": []
  }
 ],
 "metadata": {
  "kernelspec": {
   "display_name": "Python 3 (ipykernel)",
   "language": "python",
   "name": "python3"
  },
  "language_info": {
   "codemirror_mode": {
    "name": "ipython",
    "version": 3
   },
   "file_extension": ".py",
   "mimetype": "text/x-python",
   "name": "python",
   "nbconvert_exporter": "python",
   "pygments_lexer": "ipython3",
   "version": "3.8.8"
  }
 },
 "nbformat": 4,
 "nbformat_minor": 5
}
