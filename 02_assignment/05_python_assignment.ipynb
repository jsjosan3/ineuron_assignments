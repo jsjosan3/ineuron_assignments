{
 "cells": [
  {
   "cell_type": "markdown",
   "id": "a624e9be",
   "metadata": {},
   "source": [
    "#### Write a Python program to reverse a word after accepting the input from the user.\n",
    "##### Sample Output:\n",
    "                Input word: ineuron\n",
    "                Output: norueni"
   ]
  },
  {
   "cell_type": "code",
   "execution_count": 1,
   "id": "82a99329",
   "metadata": {},
   "outputs": [
    {
     "name": "stdout",
     "output_type": "stream",
     "text": [
      "Input word: ineuron\n",
      "Output: norueni\n"
     ]
    }
   ],
   "source": [
    "a=input(\"Input word: \")        #created a input variable\n",
    "print(f\"Output: {(a[::-1])}\")  #printed in reverse manner"
   ]
  },
  {
   "cell_type": "markdown",
   "id": "5d23611c",
   "metadata": {},
   "source": [
    "_________________________________________________________________________________________________________________________________________"
   ]
  },
  {
   "cell_type": "markdown",
   "id": "b3f9bb51",
   "metadata": {},
   "source": [
    "##### solution:\n",
    "            first created a input variable of string type for input of word  \n",
    "            reversed the index of alphabets of  given input word\n",
    "            than print the word in revese manners with output massege "
   ]
  },
  {
   "cell_type": "code",
   "execution_count": null,
   "id": "e9ccef17",
   "metadata": {},
   "outputs": [],
   "source": []
  }
 ],
 "metadata": {
  "kernelspec": {
   "display_name": "Python 3 (ipykernel)",
   "language": "python",
   "name": "python3"
  },
  "language_info": {
   "codemirror_mode": {
    "name": "ipython",
    "version": 3
   },
   "file_extension": ".py",
   "mimetype": "text/x-python",
   "name": "python",
   "nbconvert_exporter": "python",
   "pygments_lexer": "ipython3",
   "version": "3.8.11"
  }
 },
 "nbformat": 4,
 "nbformat_minor": 5
}
