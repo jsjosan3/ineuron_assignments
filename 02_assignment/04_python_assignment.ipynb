{
 "cells": [
  {
   "cell_type": "raw",
   "id": "57ffb123",
   "metadata": {},
   "source": [
    "# Create the below pattern using nested for loop in Python.\n",
    "\n",
    " *\n",
    " * *\n",
    " * * *\n",
    " * * * *\n",
    " * * * * *\n",
    " * * * *\n",
    " * * *\n",
    " * *\n",
    " *"
   ]
  },
  {
   "cell_type": "code",
   "execution_count": 4,
   "id": "26f86698",
   "metadata": {},
   "outputs": [
    {
     "name": "stdout",
     "output_type": "stream",
     "text": [
      "* \n",
      "* * \n",
      "* * * \n",
      "* * * * \n",
      "* * * * * \n",
      "* * * * \n",
      "* * * \n",
      "* * \n",
      "* \n",
      "\n"
     ]
    }
   ],
   "source": [
    "for i in range(1,6): #to print the first 5 rows of stars\n",
    "    print(\"* \"*(i))    \n",
    "else:\n",
    "    for i in range(5): #nasted for loop to  print the last 4 rows of stars\n",
    "        print(\"* \"*(4-i))"
   ]
  },
  {
   "cell_type": "code",
   "execution_count": 2,
   "id": "6738a551",
   "metadata": {},
   "outputs": [
    {
     "name": "stdout",
     "output_type": "stream",
     "text": [
      "* \n",
      "* * \n",
      "* * * \n",
      "* * * * \n",
      "* * * * * \n",
      "* * * * \n",
      "* * * \n",
      "* * \n",
      "* \n"
     ]
    }
   ],
   "source": [
    "# second way to print same pattern without nasted loop\n",
    "for i in range(1,5): #to print the first 5 rows of stars\n",
    "    print(\"* \"*(i))\n",
    "    \n",
    "for i in range(5):  #to print the last 4 rows of stars\n",
    "    print(\"* \"*(5-i))\n",
    "        "
   ]
  },
  {
   "cell_type": "markdown",
   "id": "8e434e12",
   "metadata": {},
   "source": [
    "#### Solution:\n",
    "              used 2 \"for\" loops\n",
    "              first used to print first five rows \n",
    "              second used to last five rows"
   ]
  },
  {
   "cell_type": "code",
   "execution_count": null,
   "id": "0a99c58a",
   "metadata": {},
   "outputs": [],
   "source": []
  }
 ],
 "metadata": {
  "kernelspec": {
   "display_name": "Python 3 (ipykernel)",
   "language": "python",
   "name": "python3"
  },
  "language_info": {
   "codemirror_mode": {
    "name": "ipython",
    "version": 3
   },
   "file_extension": ".py",
   "mimetype": "text/x-python",
   "name": "python",
   "nbconvert_exporter": "python",
   "pygments_lexer": "ipython3",
   "version": "3.8.11"
  }
 },
 "nbformat": 4,
 "nbformat_minor": 5
}
